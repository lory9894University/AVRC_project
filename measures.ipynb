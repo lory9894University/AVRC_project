{
 "cells": [
  {
   "cell_type": "code",
   "execution_count": 5,
   "metadata": {
    "collapsed": true,
    "pycharm": {
     "name": "#%%\n"
    }
   },
   "outputs": [],
   "source": [
    "import matplotlib.pyplot as plt\n",
    "import pandas as pd\n",
    "import networkx as nx\n",
    "\n",
    "dataset_path= \"Brightkite_edges.txt\"\n",
    "\n",
    "def parseDataset(path):\n",
    "    df = pd.read_table(path, delimiter='\\t', names=['source','target'])\n",
    "    return df"
   ]
  },
  {
   "cell_type": "code",
   "execution_count": 6,
   "outputs": [
    {
     "name": "stdout",
     "output_type": "stream",
     "text": [
      "Graph with 58228 nodes and 214078 edges\n"
     ]
    }
   ],
   "source": [
    "#Graph creation\n",
    "data = parseDataset(dataset_path)\n",
    "G= nx.from_pandas_edgelist(data,\"source\",\"target\")\n"
   ],
   "metadata": {
    "collapsed": false,
    "pycharm": {
     "name": "#%%\n"
    }
   }
  },
  {
   "cell_type": "code",
   "execution_count": 17,
   "outputs": [
    {
     "name": "stdout",
     "output_type": "stream",
     "text": [
      "Graph with 58228 nodes and 214078 edges\n",
      "Graph with 58228 nodes and 214078 edges\n",
      "Il grafo è connesso? False\n",
      "Componenti connesse: 547\n"
     ]
    },
    {
     "name": "stderr",
     "output_type": "stream",
     "text": [
      "/tmp/ipykernel_19241/1189280283.py:3: DeprecationWarning: info is deprecated and will be removed in version 3.0.\n",
      "\n",
      "  print(nx.info(G))\n"
     ]
    }
   ],
   "source": [
    "#generic analysis\n",
    "print(G)\n"
   ],
   "metadata": {
    "collapsed": false,
    "pycharm": {
     "name": "#%%\n"
    }
   }
  },
  {
   "cell_type": "code",
   "execution_count": 8,
   "outputs": [
    {
     "name": "stdout",
     "output_type": "stream",
     "text": [
      "largest connected component size: 56739\n"
     ]
    }
   ],
   "source": [
    "#largest connected component\n",
    "print(\"Il grafo è connesso? \"+str(nx.is_connected(G)))\n",
    "print(\"Componenti connesse: \"+ str(nx.number_connected_components(G)))\n",
    "core_nodes = max(nx.connected_components(G), key=len)\n",
    "print(f\"largest connected component size: {len(core_nodes)}\")\n",
    "core = G.subgraph(core_nodes)\n",
    "\n",
    "\n",
    "#nx.draw(core, with_labels=True)"
   ],
   "metadata": {
    "collapsed": false,
    "pycharm": {
     "name": "#%%\n"
    }
   }
  },
  {
   "cell_type": "code",
   "execution_count": 16,
   "outputs": [
    {
     "name": "stdout",
     "output_type": "stream",
     "text": [
      "average degree: 7.353094731057223\n",
      "21157\n"
     ]
    },
    {
     "data": {
      "text/plain": "<Figure size 432x288 with 1 Axes>",
      "image/png": "[encoded data removed]"
     },
     "metadata": {
      "needs_background": "light"
     },
     "output_type": "display_data"
    }
   ],
   "source": [
    "#degree analysis\n",
    "degree_sequence = sorted([d for n, d in G.degree()], reverse=True)  # degree sequence\n",
    "plt.yscale('log')\n",
    "plt.plot(degree_sequence)\n",
    "\n",
    "print(\"average degree: \" + str(sum(degree_sequence)/len(degree_sequence)))\n",
    "#wtf? average degree 7?\n",
    "print(degree_sequence.count(min(degree_sequence)))\n",
    "#ah, ecco perchè."
   ],
   "metadata": {
    "collapsed": false,
    "pycharm": {
     "name": "#%%\n"
    }
   }
  },
  {
   "cell_type": "code",
   "execution_count": 10,
   "outputs": [
    {
     "name": "stdout",
     "output_type": "stream",
     "text": [
      "Clustering coefficient: 0.17232592744613273\n"
     ]
    }
   ],
   "source": [
    "#clustering coefficient\n",
    "print(\"Clustering coefficient: \"+str(nx.average_clustering(G)))\n"
   ],
   "metadata": {
    "collapsed": false,
    "pycharm": {
     "name": "#%%\n"
    }
   }
  }
 ],
 "metadata": {
  "kernelspec": {
   "display_name": "Python 3",
   "language": "python",
   "name": "python3"
  },
  "language_info": {
   "codemirror_mode": {
    "name": "ipython",
    "version": 2
   },
   "file_extension": ".py",
   "mimetype": "text/x-python",
   "name": "python",
   "nbconvert_exporter": "python",
   "pygments_lexer": "ipython2",
   "version": "2.7.6"
  }
 },
 "nbformat": 4,
 "nbformat_minor": 0
}