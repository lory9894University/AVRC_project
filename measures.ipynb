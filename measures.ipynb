{
 "cells": [
  {
   "cell_type": "code",
   "execution_count": 2,
   "metadata": {
    "pycharm": {
     "name": "#%%\n"
    }
   },
   "outputs": [],
   "source": [
    "import json\n",
    "import matplotlib.pyplot as plt\n",
    "import pandas as pd\n",
    "import networkx as nx\n",
    "import community\n",
    "from collections import Counter\n",
    "import numpy as np\n",
    "\n",
    "\n",
    "def parseDataset(path):\n",
    "    df = pd.read_table(path, delimiter='\\t', names=['source','target'])\n",
    "    return nx.from_pandas_edgelist(df,\"source\",\"target\")\n",
    "\n",
    "def parseJson(path):\n",
    "    with open(path) as f:\n",
    "        data = json.load(f)\n",
    "        return nx.node_link_graph(data)\n",
    "\n"
   ]
  },
  {
   "cell_type": "code",
   "execution_count": 3,
   "outputs": [],
   "source": [
    "#Graph creation\n",
    "dataset_path= \"reducer/all_datas.json\"\n",
    "#G = parseDataset(\"dataset.txt\")\n",
    "#reduced = False\n",
    "#has_foci= False\n",
    "G= parseJson(dataset_path)\n",
    "reduced = False\n",
    "has_foci= True"
   ],
   "metadata": {
    "collapsed": false,
    "pycharm": {
     "name": "#%%\n"
    }
   }
  },
  {
   "cell_type": "code",
   "execution_count": 4,
   "outputs": [
    {
     "name": "stdout",
     "output_type": "stream",
     "text": [
      "Graph with 24568 nodes and 19898 edges\n"
     ]
    }
   ],
   "source": [
    "#generic analysis\n",
    "print(G)\n"
   ],
   "metadata": {
    "collapsed": false,
    "pycharm": {
     "name": "#%%\n"
    }
   }
  },
  {
   "cell_type": "code",
   "execution_count": 4,
   "outputs": [],
   "source": [
    "#distances analysis (ci metterà una vita, la giant component richiederà ore)\n",
    "if reduced:\n",
    "    distances_sum = 0\n",
    "    all_p = []\n",
    "    connected_components_list = sorted(nx.connected_components(G), key=len, reverse=True)\n",
    "    examined_components= 0\n",
    "    for C in (G.subgraph(c).copy() for c in connected_components_list):\n",
    "        p = dict(nx.shortest_path_length(C)) #questo conterrà tutte le distanze, per poter guardare max, min e media\n",
    "        all_p.append(p)\n",
    "        distance = nx.average_shortest_path_length(C)\n",
    "        if distances_sum == 0:\n",
    "            print(\"average path largest connected component= :\" + str(distance))\n",
    "        if distance > 0:\n",
    "            examined_components += 1\n",
    "            distances_sum += distance\n",
    "\n",
    "\n",
    "    print(\"Average distance: \", distances_sum/examined_components)\n"
   ],
   "metadata": {
    "collapsed": false,
    "pycharm": {
     "name": "#%%\n"
    }
   }
  },
  {
   "cell_type": "code",
   "execution_count": 5,
   "outputs": [
    {
     "ename": "KeyboardInterrupt",
     "evalue": "",
     "output_type": "error",
     "traceback": [
      "\u001B[0;31m---------------------------------------------------------------------------\u001B[0m",
      "\u001B[0;31mKeyboardInterrupt\u001B[0m                         Traceback (most recent call last)",
      "Input \u001B[0;32mIn [5]\u001B[0m, in \u001B[0;36m<cell line: 2>\u001B[0;34m()\u001B[0m\n\u001B[1;32m      1\u001B[0m \u001B[38;5;66;03m#clustering coefficient\u001B[39;00m\n\u001B[0;32m----> 2\u001B[0m \u001B[38;5;28mprint\u001B[39m(\u001B[38;5;124m\"\u001B[39m\u001B[38;5;124mClustering coefficient: \u001B[39m\u001B[38;5;124m\"\u001B[39m\u001B[38;5;241m+\u001B[39m\u001B[38;5;28mstr\u001B[39m(\u001B[43mnx\u001B[49m\u001B[38;5;241;43m.\u001B[39;49m\u001B[43maverage_clustering\u001B[49m\u001B[43m(\u001B[49m\u001B[43mG\u001B[49m\u001B[43m)\u001B[49m))\n",
      "File \u001B[0;32m~/anaconda3/envs/dataviz/lib/python3.9/site-packages/networkx/algorithms/cluster.py:275\u001B[0m, in \u001B[0;36maverage_clustering\u001B[0;34m(G, nodes, weight, count_zeros)\u001B[0m\n\u001B[1;32m    222\u001B[0m \u001B[38;5;28;01mdef\u001B[39;00m \u001B[38;5;21maverage_clustering\u001B[39m(G, nodes\u001B[38;5;241m=\u001B[39m\u001B[38;5;28;01mNone\u001B[39;00m, weight\u001B[38;5;241m=\u001B[39m\u001B[38;5;28;01mNone\u001B[39;00m, count_zeros\u001B[38;5;241m=\u001B[39m\u001B[38;5;28;01mTrue\u001B[39;00m):\n\u001B[1;32m    223\u001B[0m     \u001B[38;5;124mr\u001B[39m\u001B[38;5;124;03m\"\"\"Compute the average clustering coefficient for the graph G.\u001B[39;00m\n\u001B[1;32m    224\u001B[0m \n\u001B[1;32m    225\u001B[0m \u001B[38;5;124;03m    The clustering coefficient for the graph is the average,\u001B[39;00m\n\u001B[0;32m   (...)\u001B[0m\n\u001B[1;32m    273\u001B[0m \u001B[38;5;124;03m       https://arxiv.org/abs/0802.2512\u001B[39;00m\n\u001B[1;32m    274\u001B[0m \u001B[38;5;124;03m    \"\"\"\u001B[39;00m\n\u001B[0;32m--> 275\u001B[0m     c \u001B[38;5;241m=\u001B[39m \u001B[43mclustering\u001B[49m\u001B[43m(\u001B[49m\u001B[43mG\u001B[49m\u001B[43m,\u001B[49m\u001B[43m \u001B[49m\u001B[43mnodes\u001B[49m\u001B[43m,\u001B[49m\u001B[43m \u001B[49m\u001B[43mweight\u001B[49m\u001B[38;5;241;43m=\u001B[39;49m\u001B[43mweight\u001B[49m\u001B[43m)\u001B[49m\u001B[38;5;241m.\u001B[39mvalues()\n\u001B[1;32m    276\u001B[0m     \u001B[38;5;28;01mif\u001B[39;00m \u001B[38;5;129;01mnot\u001B[39;00m count_zeros:\n\u001B[1;32m    277\u001B[0m         c \u001B[38;5;241m=\u001B[39m [v \u001B[38;5;28;01mfor\u001B[39;00m v \u001B[38;5;129;01min\u001B[39;00m c \u001B[38;5;28;01mif\u001B[39;00m \u001B[38;5;28mabs\u001B[39m(v) \u001B[38;5;241m>\u001B[39m \u001B[38;5;241m0\u001B[39m]\n",
      "File \u001B[0;32m~/anaconda3/envs/dataviz/lib/python3.9/site-packages/networkx/algorithms/cluster.py:387\u001B[0m, in \u001B[0;36mclustering\u001B[0;34m(G, nodes, weight)\u001B[0m\n\u001B[1;32m    385\u001B[0m     \u001B[38;5;28;01melse\u001B[39;00m:\n\u001B[1;32m    386\u001B[0m         td_iter \u001B[38;5;241m=\u001B[39m _triangles_and_degree_iter(G, nodes)\n\u001B[0;32m--> 387\u001B[0m         clusterc \u001B[38;5;241m=\u001B[39m {v: \u001B[38;5;241m0\u001B[39m \u001B[38;5;28;01mif\u001B[39;00m t \u001B[38;5;241m==\u001B[39m \u001B[38;5;241m0\u001B[39m \u001B[38;5;28;01melse\u001B[39;00m t \u001B[38;5;241m/\u001B[39m (d \u001B[38;5;241m*\u001B[39m (d \u001B[38;5;241m-\u001B[39m \u001B[38;5;241m1\u001B[39m)) \u001B[38;5;28;01mfor\u001B[39;00m v, d, t, _ \u001B[38;5;129;01min\u001B[39;00m td_iter}\n\u001B[1;32m    388\u001B[0m \u001B[38;5;28;01mif\u001B[39;00m nodes \u001B[38;5;129;01min\u001B[39;00m G:\n\u001B[1;32m    389\u001B[0m     \u001B[38;5;66;03m# Return the value of the sole entry in the dictionary.\u001B[39;00m\n\u001B[1;32m    390\u001B[0m     \u001B[38;5;28;01mreturn\u001B[39;00m clusterc[nodes]\n",
      "File \u001B[0;32m~/anaconda3/envs/dataviz/lib/python3.9/site-packages/networkx/algorithms/cluster.py:387\u001B[0m, in \u001B[0;36m<dictcomp>\u001B[0;34m(.0)\u001B[0m\n\u001B[1;32m    385\u001B[0m     \u001B[38;5;28;01melse\u001B[39;00m:\n\u001B[1;32m    386\u001B[0m         td_iter \u001B[38;5;241m=\u001B[39m _triangles_and_degree_iter(G, nodes)\n\u001B[0;32m--> 387\u001B[0m         clusterc \u001B[38;5;241m=\u001B[39m {v: \u001B[38;5;241m0\u001B[39m \u001B[38;5;28;01mif\u001B[39;00m t \u001B[38;5;241m==\u001B[39m \u001B[38;5;241m0\u001B[39m \u001B[38;5;28;01melse\u001B[39;00m t \u001B[38;5;241m/\u001B[39m (d \u001B[38;5;241m*\u001B[39m (d \u001B[38;5;241m-\u001B[39m \u001B[38;5;241m1\u001B[39m)) \u001B[38;5;28;01mfor\u001B[39;00m v, d, t, _ \u001B[38;5;129;01min\u001B[39;00m td_iter}\n\u001B[1;32m    388\u001B[0m \u001B[38;5;28;01mif\u001B[39;00m nodes \u001B[38;5;129;01min\u001B[39;00m G:\n\u001B[1;32m    389\u001B[0m     \u001B[38;5;66;03m# Return the value of the sole entry in the dictionary.\u001B[39;00m\n\u001B[1;32m    390\u001B[0m     \u001B[38;5;28;01mreturn\u001B[39;00m clusterc[nodes]\n",
      "File \u001B[0;32m~/anaconda3/envs/dataviz/lib/python3.9/site-packages/networkx/utils/decorators.py:811\u001B[0m, in \u001B[0;36margmap.__call__.<locals>.func\u001B[0;34m(_argmap__wrapper, *args, **kwargs)\u001B[0m\n\u001B[1;32m    810\u001B[0m \u001B[38;5;28;01mdef\u001B[39;00m \u001B[38;5;21mfunc\u001B[39m(\u001B[38;5;241m*\u001B[39margs, __wrapper\u001B[38;5;241m=\u001B[39m\u001B[38;5;28;01mNone\u001B[39;00m, \u001B[38;5;241m*\u001B[39m\u001B[38;5;241m*\u001B[39mkwargs):\n\u001B[0;32m--> 811\u001B[0m     \u001B[38;5;28;01myield from\u001B[39;00m argmap\u001B[38;5;241m.\u001B[39m_lazy_compile(__wrapper)(\u001B[38;5;241m*\u001B[39margs, \u001B[38;5;241m*\u001B[39m\u001B[38;5;241m*\u001B[39mkwargs)\n",
      "File \u001B[0;32m<class 'networkx.utils.decorators.argmap'> compilation 4:4\u001B[0m, in \u001B[0;36margmap__triangles_and_degree_iter_1\u001B[0;34m(G, nodes)\u001B[0m\n\u001B[1;32m      2\u001B[0m \u001B[38;5;28;01mfrom\u001B[39;00m \u001B[38;5;21;01mos\u001B[39;00m\u001B[38;5;21;01m.\u001B[39;00m\u001B[38;5;21;01mpath\u001B[39;00m \u001B[38;5;28;01mimport\u001B[39;00m splitext\n\u001B[1;32m      3\u001B[0m \u001B[38;5;28;01mfrom\u001B[39;00m \u001B[38;5;21;01mcontextlib\u001B[39;00m \u001B[38;5;28;01mimport\u001B[39;00m contextmanager\n\u001B[0;32m----> 4\u001B[0m \u001B[38;5;28;01mfrom\u001B[39;00m \u001B[38;5;21;01mpathlib\u001B[39;00m \u001B[38;5;28;01mimport\u001B[39;00m Path\n\u001B[1;32m      6\u001B[0m \u001B[38;5;28;01mimport\u001B[39;00m \u001B[38;5;21;01mnetworkx\u001B[39;00m \u001B[38;5;28;01mas\u001B[39;00m \u001B[38;5;21;01mnx\u001B[39;00m\n\u001B[1;32m      7\u001B[0m \u001B[38;5;28;01mfrom\u001B[39;00m \u001B[38;5;21;01mnetworkx\u001B[39;00m\u001B[38;5;21;01m.\u001B[39;00m\u001B[38;5;21;01mutils\u001B[39;00m \u001B[38;5;28;01mimport\u001B[39;00m create_random_state, create_py_random_state\n",
      "File \u001B[0;32m~/anaconda3/envs/dataviz/lib/python3.9/site-packages/networkx/algorithms/cluster.py:78\u001B[0m, in \u001B[0;36m_triangles_and_degree_iter\u001B[0;34m(G, nodes)\u001B[0m\n\u001B[1;32m     76\u001B[0m \u001B[38;5;28;01mfor\u001B[39;00m v, v_nbrs \u001B[38;5;129;01min\u001B[39;00m nodes_nbrs:\n\u001B[1;32m     77\u001B[0m     vs \u001B[38;5;241m=\u001B[39m \u001B[38;5;28mset\u001B[39m(v_nbrs) \u001B[38;5;241m-\u001B[39m {v}\n\u001B[0;32m---> 78\u001B[0m     gen_degree \u001B[38;5;241m=\u001B[39m \u001B[43mCounter\u001B[49m\u001B[43m(\u001B[49m\u001B[38;5;28;43mlen\u001B[39;49m\u001B[43m(\u001B[49m\u001B[43mvs\u001B[49m\u001B[43m \u001B[49m\u001B[38;5;241;43m&\u001B[39;49m\u001B[43m \u001B[49m\u001B[43m(\u001B[49m\u001B[38;5;28;43mset\u001B[39;49m\u001B[43m(\u001B[49m\u001B[43mG\u001B[49m\u001B[43m[\u001B[49m\u001B[43mw\u001B[49m\u001B[43m]\u001B[49m\u001B[43m)\u001B[49m\u001B[43m \u001B[49m\u001B[38;5;241;43m-\u001B[39;49m\u001B[43m \u001B[49m\u001B[43m{\u001B[49m\u001B[43mw\u001B[49m\u001B[43m}\u001B[49m\u001B[43m)\u001B[49m\u001B[43m)\u001B[49m\u001B[43m \u001B[49m\u001B[38;5;28;43;01mfor\u001B[39;49;00m\u001B[43m \u001B[49m\u001B[43mw\u001B[49m\u001B[43m \u001B[49m\u001B[38;5;129;43;01min\u001B[39;49;00m\u001B[43m \u001B[49m\u001B[43mvs\u001B[49m\u001B[43m)\u001B[49m\n\u001B[1;32m     79\u001B[0m     ntriangles \u001B[38;5;241m=\u001B[39m \u001B[38;5;28msum\u001B[39m(k \u001B[38;5;241m*\u001B[39m val \u001B[38;5;28;01mfor\u001B[39;00m k, val \u001B[38;5;129;01min\u001B[39;00m gen_degree\u001B[38;5;241m.\u001B[39mitems())\n\u001B[1;32m     80\u001B[0m     \u001B[38;5;28;01myield\u001B[39;00m (v, \u001B[38;5;28mlen\u001B[39m(vs), ntriangles, gen_degree)\n",
      "File \u001B[0;32m~/anaconda3/envs/dataviz/lib/python3.9/collections/__init__.py:593\u001B[0m, in \u001B[0;36mCounter.__init__\u001B[0;34m(self, iterable, **kwds)\u001B[0m\n\u001B[1;32m    582\u001B[0m \u001B[38;5;124;03m'''Create a new, empty Counter object.  And if given, count elements\u001B[39;00m\n\u001B[1;32m    583\u001B[0m \u001B[38;5;124;03mfrom an input iterable.  Or, initialize the count from another mapping\u001B[39;00m\n\u001B[1;32m    584\u001B[0m \u001B[38;5;124;03mof elements to their counts.\u001B[39;00m\n\u001B[0;32m   (...)\u001B[0m\n\u001B[1;32m    590\u001B[0m \n\u001B[1;32m    591\u001B[0m \u001B[38;5;124;03m'''\u001B[39;00m\n\u001B[1;32m    592\u001B[0m \u001B[38;5;28msuper\u001B[39m()\u001B[38;5;241m.\u001B[39m\u001B[38;5;21m__init__\u001B[39m()\n\u001B[0;32m--> 593\u001B[0m \u001B[38;5;28;43mself\u001B[39;49m\u001B[38;5;241;43m.\u001B[39;49m\u001B[43mupdate\u001B[49m\u001B[43m(\u001B[49m\u001B[43miterable\u001B[49m\u001B[43m,\u001B[49m\u001B[43m \u001B[49m\u001B[38;5;241;43m*\u001B[39;49m\u001B[38;5;241;43m*\u001B[39;49m\u001B[43mkwds\u001B[49m\u001B[43m)\u001B[49m\n",
      "File \u001B[0;32m~/anaconda3/envs/dataviz/lib/python3.9/collections/__init__.py:679\u001B[0m, in \u001B[0;36mCounter.update\u001B[0;34m(self, iterable, **kwds)\u001B[0m\n\u001B[1;32m    677\u001B[0m             \u001B[38;5;28msuper\u001B[39m()\u001B[38;5;241m.\u001B[39mupdate(iterable)\n\u001B[1;32m    678\u001B[0m     \u001B[38;5;28;01melse\u001B[39;00m:\n\u001B[0;32m--> 679\u001B[0m         \u001B[43m_count_elements\u001B[49m\u001B[43m(\u001B[49m\u001B[38;5;28;43mself\u001B[39;49m\u001B[43m,\u001B[49m\u001B[43m \u001B[49m\u001B[43miterable\u001B[49m\u001B[43m)\u001B[49m\n\u001B[1;32m    680\u001B[0m \u001B[38;5;28;01mif\u001B[39;00m kwds:\n\u001B[1;32m    681\u001B[0m     \u001B[38;5;28mself\u001B[39m\u001B[38;5;241m.\u001B[39mupdate(kwds)\n",
      "File \u001B[0;32m~/anaconda3/envs/dataviz/lib/python3.9/site-packages/networkx/algorithms/cluster.py:78\u001B[0m, in \u001B[0;36m<genexpr>\u001B[0;34m(.0)\u001B[0m\n\u001B[1;32m     76\u001B[0m \u001B[38;5;28;01mfor\u001B[39;00m v, v_nbrs \u001B[38;5;129;01min\u001B[39;00m nodes_nbrs:\n\u001B[1;32m     77\u001B[0m     vs \u001B[38;5;241m=\u001B[39m \u001B[38;5;28mset\u001B[39m(v_nbrs) \u001B[38;5;241m-\u001B[39m {v}\n\u001B[0;32m---> 78\u001B[0m     gen_degree \u001B[38;5;241m=\u001B[39m Counter(\u001B[38;5;28;43mlen\u001B[39;49m\u001B[43m(\u001B[49m\u001B[43mvs\u001B[49m\u001B[43m \u001B[49m\u001B[38;5;241;43m&\u001B[39;49m\u001B[43m \u001B[49m\u001B[43m(\u001B[49m\u001B[38;5;28;43mset\u001B[39;49m\u001B[43m(\u001B[49m\u001B[43mG\u001B[49m\u001B[43m[\u001B[49m\u001B[43mw\u001B[49m\u001B[43m]\u001B[49m\u001B[43m)\u001B[49m\u001B[43m \u001B[49m\u001B[38;5;241;43m-\u001B[39;49m\u001B[43m \u001B[49m\u001B[43m{\u001B[49m\u001B[43mw\u001B[49m\u001B[43m}\u001B[49m\u001B[43m)\u001B[49m\u001B[43m)\u001B[49m \u001B[38;5;28;01mfor\u001B[39;00m w \u001B[38;5;129;01min\u001B[39;00m vs)\n\u001B[1;32m     79\u001B[0m     ntriangles \u001B[38;5;241m=\u001B[39m \u001B[38;5;28msum\u001B[39m(k \u001B[38;5;241m*\u001B[39m val \u001B[38;5;28;01mfor\u001B[39;00m k, val \u001B[38;5;129;01min\u001B[39;00m gen_degree\u001B[38;5;241m.\u001B[39mitems())\n\u001B[1;32m     80\u001B[0m     \u001B[38;5;28;01myield\u001B[39;00m (v, \u001B[38;5;28mlen\u001B[39m(vs), ntriangles, gen_degree)\n",
      "\u001B[0;31mKeyboardInterrupt\u001B[0m: "
     ]
    }
   ],
   "source": [
    "#clustering coefficient\n",
    "print(\"Clustering coefficient: \"+str(nx.average_clustering(G)))\n"
   ],
   "metadata": {
    "collapsed": false,
    "pycharm": {
     "name": "#%%\n"
    }
   }
  },
  {
   "cell_type": "markdown",
   "source": [
    "Come si spiega questo valore? la discussione che abbiamo fatto di persona ( non ci sono grossi hubs, diciamo che le comunità sono degli hub). ciò si spiega anche con il discorso dei foci, abbiamo dei luogi in cui tantissime persone vanno.\n",
    "ci sono ulteriori prove di ciò qui:\n",
    "http://snap.stanford.edu/data/loc-brightkite.html\n",
    "Si può notare che i triangoli chiusi sono pochissimi e quindi il clustering coefficient è basso."
   ],
   "metadata": {
    "collapsed": false,
    "pycharm": {
     "name": "#%% md\n"
    }
   }
  },
  {
   "cell_type": "code",
   "execution_count": 5,
   "outputs": [
    {
     "name": "stdout",
     "output_type": "stream",
     "text": [
      "Il grafo è connesso? False\n",
      "Componenti connesse: 547\n",
      "largest connected component size: 56739\n",
      "[56739, 49, 11, 11, 10, 10, 9, 8, 8, 7, 7, 7, 6, 6, 6, 6, 6, 6, 6, 6, 6, 5, 5, 5, 5, 5, 5, 5, 5, 5, 5, 5, 5, 5, 5, 5, 5, 5, 5, 5, 5, 5, 4, 4, 4, 4, 4, 4, 4, 4, 4, 4, 4, 4, 4, 4, 4, 4, 4, 4, 4, 4, 4, 4, 4, 4, 4, 4, 4, 4, 4, 4, 4, 4, 4, 4, 4, 4, 4, 4, 4, 4, 3, 3, 3, 3, 3, 3, 3, 3, 3, 3, 3, 3, 3, 3, 3, 3, 3, 3, 3, 3, 3, 3, 3, 3, 3, 3, 3, 3, 3, 3, 3, 3, 3, 3, 3, 3, 3, 3, 3, 3, 3, 3, 3, 3, 3, 3, 3, 3, 3, 3, 3, 3, 3, 3, 3, 3, 3, 3, 3, 3, 3, 3, 3, 3, 3, 3, 3, 3, 3, 3, 3, 3, 3, 3, 3, 3, 3, 3, 3, 3, 3, 3, 3, 3, 3, 3, 3, 3, 3, 3, 3, 3, 3, 3, 3, 3, 3, 3, 3, 3, 3, 3, 3, 2, 2, 2, 2, 2, 2, 2, 2, 2, 2, 2, 2, 2, 2, 2, 2, 2, 2, 2, 2, 2, 2, 2, 2, 2, 2, 2, 2, 2, 2, 2, 2, 2, 2, 2, 2, 2, 2, 2, 2, 2, 2, 2, 2, 2, 2, 2, 2, 2, 2, 2, 2, 2, 2, 2, 2, 2, 2, 2, 2, 2, 2, 2, 2, 2, 2, 2, 2, 2, 2, 2, 2, 2, 2, 2, 2, 2, 2, 2, 2, 2, 2, 2, 2, 2, 2, 2, 2, 2, 2, 2, 2, 2, 2, 2, 2, 2, 2, 2, 2, 2, 2, 2, 2, 2, 2, 2, 2, 2, 2, 2, 2, 2, 2, 2, 2, 2, 2, 2, 2, 2, 2, 2, 2, 2, 2, 2, 2, 2, 2, 2, 2, 2, 2, 2, 2, 2, 2, 2, 2, 2, 2, 2, 2, 2, 2, 2, 2, 2, 2, 2, 2, 2, 2, 2, 2, 2, 2, 2, 2, 2, 2, 2, 2, 2, 2, 2, 2, 2, 2, 2, 2, 2, 2, 2, 2, 2, 2, 2, 2, 2, 2, 2, 2, 2, 2, 2, 2, 2, 2, 2, 2, 2, 2, 2, 2, 2, 2, 2, 2, 2, 2, 2, 2, 2, 2, 2, 2, 2, 2, 2, 2, 2, 2, 2, 2, 2, 2, 2, 2, 2, 2, 2, 2, 2, 2, 2, 2, 2, 2, 2, 2, 2, 2, 2, 2, 2, 2, 2, 2, 2, 2, 2, 2, 2, 2, 2, 2, 2, 2, 2, 2, 2, 2, 2, 2, 2, 2, 2, 2, 2, 2, 2, 2, 2, 2, 2, 2, 2, 2, 2, 2, 2, 2, 2, 2, 2, 2, 2, 2, 2, 2, 2, 2, 2, 2, 2, 2, 2, 2, 2, 2, 2, 2, 2, 2, 2, 2, 2, 2, 2, 2, 2, 2, 2, 2, 2, 2, 2, 2, 2, 2, 2, 2, 2, 2, 2, 2, 2, 2, 2, 2, 2, 2, 2, 2, 2, 2, 2, 2, 2, 2, 2, 2, 2, 2, 2, 2, 2, 2, 2, 2, 2, 2, 2, 2, 2, 2, 2, 2, 2, 2, 2, 2, 2, 2, 2, 2, 2, 2, 2, 2]\n"
     ]
    }
   ],
   "source": [
    "#largest connected component\n",
    "print(\"Il grafo è connesso? \"+str(nx.is_connected(G)))\n",
    "print(\"Componenti connesse: \"+ str(nx.number_connected_components(G)))\n",
    "core_nodes = max(nx.connected_components(G), key=len)\n",
    "print(f\"largest connected component size: {len(core_nodes)}\")\n",
    "core = G.subgraph(core_nodes)\n",
    "largest_component = G.subgraph(core_nodes).copy()\n",
    "\n",
    "print([len(c) for c in sorted(nx.connected_components(G), key=len, reverse=True)])"
   ],
   "metadata": {
    "collapsed": false,
    "pycharm": {
     "name": "#%%\n"
    }
   }
  },
  {
   "cell_type": "code",
   "execution_count": 6,
   "outputs": [
    {
     "name": "stdout",
     "output_type": "stream",
     "text": [
      "average degree: 7.353094731057223\n",
      "average degree lcc: 7.506124535152188\n",
      "number of nodes having 1 neighbour 21157\n",
      "number of nodes having 1 neighbour in lcc20069\n",
      "39586\n",
      "minimum value of neighbour1\n",
      "minimum value of neighbour in lcc1\n",
      "Creating histogram...\n"
     ]
    },
    {
     "data": {
      "text/plain": "<Figure size 432x288 with 1 Axes>",
      "image/png": "[encoded data removed]"
     },
     "metadata": {
      "needs_background": "light"
     },
     "output_type": "display_data"
    }
   ],
   "source": [
    "#degree analysis\n",
    "\n",
    "def plot_degree_histogram(g, normalized=True):\n",
    "    print(\"Creating histogram...\")\n",
    "    aux_y = nx.degree_histogram(g)\n",
    "\n",
    "    aux_x = np.arange(0,len(aux_y)).tolist()\n",
    "\n",
    "    n_nodes = g.number_of_nodes()\n",
    "\n",
    "    if normalized:\n",
    "        for i in range(len(aux_y)):\n",
    "            aux_y[i] = aux_y[i]/n_nodes\n",
    "\n",
    "    return aux_x, aux_y\n",
    "    #codice copiato, dovrebbe restituire due liste, una con i valori dei gradi e una con la probabilità di avere tale grado\n",
    "\n",
    "if not reduced:\n",
    "    #tutto il grafo\n",
    "    degree_sequence = sorted([d for n, d in G.degree()], reverse=True)  # degree sequence grafo\n",
    "    degree_sequence_lcc = sorted([d for n, d in largest_component.degree()], reverse=True)  # degree sequence largest connected component\n",
    "\n",
    "    print(\"average degree: \" + str(sum(degree_sequence)/len(degree_sequence)))\n",
    "    print(\"average degree lcc: \" + str(sum(degree_sequence_lcc)/len(degree_sequence_lcc)))\n",
    "\n",
    "    print(\"number of nodes having 1 neighbour \" + str(degree_sequence.count(min(degree_sequence))))\n",
    "    print(\"number of nodes having 1 neighbour in lcc\" +str(degree_sequence_lcc.count(min(degree_sequence_lcc))))\n",
    "    print(degree_sequence.count(1) + degree_sequence.count(2) + degree_sequence.count(3) + degree_sequence.count(4))\n",
    "    #ah, ecco perchè.\n",
    "    print(\"minimum value of neighbour\" + str(min(degree_sequence)))\n",
    "    print(\"minimum value of neighbour in lcc\" + str(min(degree_sequence_lcc)))\n",
    "\n",
    "    plt.title('Degree distribution of the graph')\n",
    "    plt.xlabel('Degree[log]')\n",
    "    plt.ylabel('Number of Nodes[log]')\n",
    "    plt.xscale(\"log\")\n",
    "    plt.yscale(\"log\")\n",
    "    aux_x, aux_y = plot_degree_histogram(G, normalized=True)\n",
    "    plt.plot(aux_x,aux_y)"
   ],
   "metadata": {
    "collapsed": false,
    "pycharm": {
     "name": "#%%\n"
    }
   }
  },
  {
   "cell_type": "code",
   "execution_count": 9,
   "outputs": [
    {
     "name": "stdout",
     "output_type": "stream",
     "text": [
      "Calculating best minimal value for power law fit\n",
      "2.558853351893055%\n"
     ]
    }
   ],
   "source": [
    "import powerlaw\n",
    "results = powerlaw.Fit(degree_sequence)\n",
    "print(results.power_law.alpha)"
   ],
   "metadata": {
    "collapsed": false,
    "pycharm": {
     "name": "#%%\n"
    }
   }
  },
  {
   "cell_type": "code",
   "execution_count": null,
   "outputs": [],
   "source": [
    "#Degree correlation\n",
    "if not reduced:\n",
    "    print(\"Degree correlation: \"+str(nx.degree_pearson_correlation_coefficient(G)))\n",
    "    print(\"Degree correlation: \"+str(nx.degree_pearson_correlation_coefficient(largest_component)))"
   ],
   "metadata": {
    "collapsed": false,
    "pycharm": {
     "name": "#%%\n"
    }
   }
  },
  {
   "cell_type": "code",
   "execution_count": null,
   "outputs": [],
   "source": [
    "#community detection\n",
    "communities = community.community_louvain.best_partition(G)\n",
    "largest_component_communities = community.community_louvain.best_partition(largest_component)\n",
    "# number of communities\n",
    "#print(Counter(communities.values()))\n",
    "print(len(Counter(largest_component_communities.values())))\n",
    "print(Counter(largest_component_communities.values()))\n",
    "plt.plot(sorted(Counter(largest_component_communities.values()).values(),reverse=True))\n",
    "\n"
   ],
   "metadata": {
    "collapsed": false,
    "pycharm": {
     "name": "#%%\n"
    }
   }
  },
  {
   "cell_type": "code",
   "execution_count": null,
   "outputs": [],
   "source": [
    "#TODO: aggiustare la dimensione dell'immagine, se si decommenta la linea precedente il grafo delle comunità diventa un amoung us\n",
    "#per ignorare quelle da due è meglio valutare solo la largest_component\n",
    "induced_graph = community.induced_graph(largest_component_communities, largest_component, weight='WEIGHT')\n",
    "#induced_graph_all= community.induced_graph(communities, G, weight='WEIGHT')\n",
    "induced_graph.remove_edges_from(nx.selfloop_edges(induced_graph))\n",
    "#induced_graph.remove_edges_from(nx.selfloop_edges(induced_graph_all))\n",
    "print(\"degree correlation: \"+str(nx.degree_pearson_correlation_coefficient(induced_graph)))\n",
    "#print(\"degree correlation: \"+str(nx.degree_pearson_correlation_coefficient(induced_graph_all)))\n",
    "\n",
    "plt.figure(figsize=(18,18))\n",
    "nx.draw(induced_graph, with_labels=True, node_size=700,font_color=\"white\")\n",
    "plt.show()\n",
    "'''si nota subito una grossa comunità centrale (la 1) ma è interessante anche notare che c'è un cluster di comunità che fungono da \"intermediari\"\n",
    "tra le comunità di sinistra e quelle di destra. la 1 è assolutamente un hub (ed è la comunità più grossa),ma le altre nel mezzo permettono il collegamento.\n",
    "'''"
   ],
   "metadata": {
    "collapsed": false,
    "pycharm": {
     "name": "#%%\n"
    }
   }
  },
  {
   "cell_type": "code",
   "execution_count": null,
   "metadata": {
    "pycharm": {
     "name": "#%%\n"
    }
   },
   "outputs": [],
   "source": [
    "#centrality analysis\n",
    "if reduced:\n",
    "        print(nx.closeness_centrality(G))\n",
    "\n",
    "else:\n",
    "    print(\"betweenness centrality: \"+str(sum(nx.betweenness_centrality(G,k=100).values())/58228))\n",
    "    #troppo grande per fare closeness_centrality(G)\n",
    "\n",
    "\n",
    "#sarebbe interessante valutare la betwenness di alcuni nodi particolari"
   ]
  },
  {
   "cell_type": "code",
   "execution_count": null,
   "outputs": [],
   "source": [
    "#community detection\n",
    "#communities = community_louvain.best_partition(G)\n",
    "largest_component_communities = community.community_louvain.best_partition(largest_component)\n",
    "# number of communities\n",
    "#print(Counter(communities.values()))\n",
    "print(Counter(largest_component_communities.values()))\n",
    "plt.plot(sorted(Counter(largest_component_communities.values()).values(),reverse=True))\n",
    "#per ignorare quelle da due è meglio valutare solo la largest_component"
   ],
   "metadata": {
    "collapsed": false,
    "pycharm": {
     "name": "#%%\n"
    }
   }
  },
  {
   "cell_type": "code",
   "execution_count": 7,
   "outputs": [
    {
     "name": "stdout",
     "output_type": "stream",
     "text": [
      "{'00000000000000000000000000000000': 249388, 'ee81ef22a22411ddb5e97f082c799f59': 5277, 'ee8b1d0ea22411ddb074dbd65f1665cf': 5233, 'eefadd1aa22411ddb0fd7f1c9c809c0c': 2830, 'ede07eeea22411dda0ef53e233ec57ca': 2690, 'ee78cc1ca22411dd9b3d576115a846a7': 2043, 'ecbfba0ca22411ddb71dfb65ad521832': 1963, 'eeb1943ea22411dd8482fba3141f3ee0': 1241, 'ed58942aa22411dd96ff97a15c29d430': 943, '4aa5fa342e11deaf79003048c10834': 754, 'eb3aa69ca22411ddb5e613b206a5fc21': 681, 'd12e8e8aa22411dd90196fa5c210e3cc': 630, 'b9c114f2a22411dda217eb3127033598': 601, 'eedaccd2a22411ddab239f51c730dbdc': 596, 'a307b2ae0edd11debb8f003048c10834': 559, 'b9d89b5ea22411dda5ef27ee20f87cee': 489, 'eb14b798a22411ddbf103b9d66732c0a': 437, 'ecceeae0a22411dd831d5f56beef969a': 411, 'a56253a4a22411dda7206be1bbffab43': 408, 'ef30fa30a22411ddaa4273c6ec231196': 382}\n"
     ]
    }
   ],
   "source": [
    "#affiliation analysis (foci)\n",
    "if has_foci:\n",
    "    foci = {}\n",
    "    links = list(G.edges(data=True))\n",
    "    for link in links:\n",
    "        if link[2]['position'] in foci:\n",
    "            foci[link[2]['position']] += 1\n",
    "        else:\n",
    "            foci[link[2]['position']] = 1\n",
    "\n",
    "    print(dict(sorted(foci.items(), key=lambda x: x[1], reverse=True)[0:20]))\n",
    "\n",
    "#ci sono pochi luogi in cui va tantissima gente ( circa il 9%), in pratica il 30% delle persone ha visitato almeno uno di questi 4 posti."
   ],
   "metadata": {
    "collapsed": false,
    "pycharm": {
     "name": "#%%\n"
    }
   }
  },
  {
   "cell_type": "code",
   "execution_count": null,
   "outputs": [],
   "source": [],
   "metadata": {
    "collapsed": false,
    "pycharm": {
     "name": "#%%\n"
    }
   }
  }
 ],
 "metadata": {
  "kernelspec": {
   "display_name": "Python 3 (ipykernel)",
   "language": "python",
   "name": "python3"
  },
  "language_info": {
   "codemirror_mode": {
    "name": "ipython",
    "version": 3
   },
   "file_extension": ".py",
   "mimetype": "text/x-python",
   "name": "python",
   "nbconvert_exporter": "python",
   "pygments_lexer": "ipython3",
   "version": "3.8.13"
  }
 },
 "nbformat": 4,
 "nbformat_minor": 1
}