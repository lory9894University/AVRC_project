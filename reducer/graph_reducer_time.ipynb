{
 "cells": [
  {
   "cell_type": "code",
   "execution_count": 67,
   "id": "1b3acd59",
   "metadata": {},
   "outputs": [],
   "source": [
    "# libraries\n",
    "import matplotlib.pyplot as plt\n",
    "import pandas as pd\n",
    "import networkx as nx\n",
    "import itertools \n",
    "import json as js\n",
    "\n",
    "path = \"./Brightkite_totalCheckins.txt\"\n",
    "\n",
    "\n",
    "def permutation(list):\n",
    "    res_list = []\n",
    "    for e in list:\n",
    "        for el in list:\n",
    "            if e != el:\n",
    "                res_list.append((e,el))\n",
    "    return res_list\n",
    "\n",
    "def merge_two_dicts(x, y):\n",
    "    z = x.copy()   # start with keys and values of x\n",
    "    z.update(y)    # modifies z with keys and values of y\n",
    "    return z\n",
    "\n"
   ]
  },
  {
   "cell_type": "code",
   "execution_count": 52,
   "id": "a837d735",
   "metadata": {},
   "outputs": [],
   "source": [
    "#get the datas\n",
    "with open(path) as f:\n",
    "    raw_datas = f.read()\n",
    "    first_elaboration = raw_datas.split(\"\\n\")\n",
    "\n",
    "act_datas_time={}\n",
    "for d in first_elaboration:\n",
    "    if(d!=''):\n",
    "        tmp = d.split(\"\\t\")\n",
    "        if tmp[1][0:13] in act_datas_time.keys():\n",
    "            #act_datas[tmp[4]].append((tmp[0],tmp[1]))\n",
    "            act_datas_time[tmp[1][0:13]].append((tmp[0], tmp[4], (tmp[2], tmp[3])))\n",
    "        else:\n",
    "            #act_datas[tmp[4]] = [(tmp[0],tmp[1])]\n",
    "            act_datas_time[tmp[1][0:13]] = [(tmp[0], tmp[4], (tmp[2], tmp[3]))]"
   ]
  },
  {
   "cell_type": "code",
   "execution_count": 53,
   "id": "859ab205",
   "metadata": {},
   "outputs": [],
   "source": [
    "G_time = nx.Graph()\n",
    "nodes = act_datas_time.keys()\n",
    "G_time.add_nodes_from(act_datas_time.keys())\n",
    "#for k in nodes:\n",
    "#    G.add_edges_from(act_datas[k])"
   ]
  },
  {
   "cell_type": "code",
   "execution_count": 54,
   "id": "44a46b51",
   "metadata": {},
   "outputs": [],
   "source": [
    "time_graph = {}\n",
    "\n",
    "for t in act_datas_time:\n",
    "    pos_time = act_datas_time[t]\n",
    "    loc_graph = {}\n",
    "    \n",
    "    for elem in pos_time:\n",
    "        if elem[1] in loc_graph.keys():\n",
    "            loc_graph[elem[1]].append(elem[0])\n",
    "        else:\n",
    "            loc_graph[elem[1]] = [elem[0]]\n",
    "    time_graph[t] = loc_graph\n",
    "\n"
   ]
  },
  {
   "cell_type": "code",
   "execution_count": 55,
   "id": "cb6ac9eb",
   "metadata": {},
   "outputs": [],
   "source": [
    "all_graph = {}\n",
    "\n",
    "for t in time_graph:\n",
    "        pos_time = time_graph[t]\n",
    "        G_tmp = nx.Graph()\n",
    "        for pos in pos_time:\n",
    "                node_list = pos_time[pos]\n",
    "                G_tmp.add_nodes_from(node_list)\n",
    "                if len(node_list)>1:\n",
    "                        edges_tmp = permutation(node_list)\n",
    "                        G_tmp.add_edges_from(edges_tmp)\n",
    "        all_graph[t] = G_tmp\n",
    "\n"
   ]
  },
  {
   "cell_type": "code",
   "execution_count": 56,
   "id": "d48982cb",
   "metadata": {},
   "outputs": [
    {
     "name": "stdout",
     "output_type": "stream",
     "text": [
      "Selezionati: 3624\n",
      "Effettivi: 22050\n",
      "Totali: 22051\n"
     ]
    }
   ],
   "source": [
    "reduced_graph = {}\n",
    "\n",
    "month_list=[]\n",
    "i = 0\n",
    "j = 0\n",
    "k = 0\n",
    "for t in time_graph:\n",
    "    if(t!=''):\n",
    "        j+=1\n",
    "        month = int(t[5:7])\n",
    "        month_list.append(month)\n",
    "        if t[0:4] == \"2009\" and month<6:\n",
    "            k+=1\n",
    "            reduced_graph[t] = time_graph[t]\n",
    "    i+=1\n",
    "\n",
    "print(\"Selezionati: \"+str(k))\n",
    "print(\"Effettivi: \"+str(j))\n",
    "print(\"Totali: \"+str(i))\n",
    "\n"
   ]
  },
  {
   "cell_type": "code",
   "execution_count": 57,
   "id": "0b01693a",
   "metadata": {},
   "outputs": [
    {
     "data": {
      "image/png": "[encoded data removed]",
      "text/plain": [
       "<Figure size 432x288 with 1 Axes>"
      ]
     },
     "metadata": {
      "needs_background": "light"
     },
     "output_type": "display_data"
    },
    {
     "data": {
      "text/plain": [
       "22050"
      ]
     },
     "execution_count": 57,
     "metadata": {},
     "output_type": "execute_result"
    }
   ],
   "source": [
    "plt.plot(month_list)\n",
    "plt.show()   \n",
    "len(month_list)"
   ]
  },
  {
   "cell_type": "code",
   "execution_count": 58,
   "id": "263d3ac1",
   "metadata": {},
   "outputs": [
    {
     "name": "stdout",
     "output_type": "stream",
     "text": [
      "Base: 711\n",
      "to remove: 589\n"
     ]
    }
   ],
   "source": [
    "times = list(reduced_graph.keys())\n",
    "\n",
    "times.sort()\n",
    "\n",
    "\n",
    "\n",
    "pos_to_remove = []\n",
    "base = merge_two_dicts(reduced_graph[times[0]], reduced_graph[times[1]])\n",
    "\n",
    "lengths = []\n",
    "i = 0\n",
    "for pos in base:\n",
    "    if len(base[pos])==1:\n",
    "        pos_to_remove.append(pos)\n",
    "    else:\n",
    "        i+=1\n",
    "print(\"Base: \"+str(len(base.keys())))\n",
    "print(\"to remove: \"+str(len(pos_to_remove)))"
   ]
  },
  {
   "cell_type": "code",
   "execution_count": 50,
   "id": "ba6d5c54",
   "metadata": {},
   "outputs": [
    {
     "name": "stdout",
     "output_type": "stream",
     "text": [
      "Scartati: 43602\n",
      "Dimensione: 3624\n"
     ]
    }
   ],
   "source": [
    "postime_reduced_graph = {}\n",
    "i = 0\n",
    "for time in reduced_graph:\n",
    "    act_graph = reduced_graph[time]\n",
    "\n",
    "    survived_pos = {}\n",
    "    for pos in act_graph:\n",
    "        if pos not in pos_to_remove:\n",
    "            survived_pos[pos] = act_graph[pos]\n",
    "        else:\n",
    "            i +=1\n",
    "    postime_reduced_graph[time] = survived_pos\n",
    "print(\"Scartati: \"+str(i))\n",
    "print(\"Dimensione: \"+ str(len(postime_reduced_graph)))\n"
   ]
  },
  {
   "cell_type": "code",
   "execution_count": 59,
   "id": "6b7002fb",
   "metadata": {},
   "outputs": [],
   "source": [
    "Gtot = nx.Graph()\n",
    "\n",
    "for t in postime_reduced_graph:\n",
    "        pos_time = postime_reduced_graph[t]\n",
    "        for pos in pos_time:\n",
    "                node_list = pos_time[pos]\n",
    "                Gtot.add_nodes_from(node_list)\n",
    "                if len(node_list)>1:\n",
    "                        edges_tmp = permutation(node_list)\n",
    "                        Gtot.add_edges_from(edges_tmp, time=t, position=pos)\n",
    "        \n"
   ]
  },
  {
   "cell_type": "code",
   "execution_count": 60,
   "id": "c8b40e09",
   "metadata": {},
   "outputs": [
    {
     "name": "stdout",
     "output_type": "stream",
     "text": [
      "Numero di nodi: 24568\n",
      "Numero di archi: 19898\n",
      "Il grafo è connesso? False\n",
      "Componenti connesse: 18082\n"
     ]
    },
    {
     "name": "stderr",
     "output_type": "stream",
     "text": [
      "/tmp/ipykernel_50389/2924902066.py:5: DeprecationWarning: info is deprecated and will be removed in version 3.0.\n",
      "\n",
      "  nx.info(Gtot)\n"
     ]
    },
    {
     "data": {
      "text/plain": [
       "'Graph with 24568 nodes and 19898 edges'"
      ]
     },
     "execution_count": 60,
     "metadata": {},
     "output_type": "execute_result"
    }
   ],
   "source": [
    "print(\"Numero di nodi: \"+str(Gtot.number_of_nodes()))\n",
    "print(\"Numero di archi: \"+str(Gtot.number_of_edges()))\n",
    "print(\"Il grafo è connesso? \"+str(nx.is_connected(Gtot)))\n",
    "print(\"Componenti connesse: \"+ str(nx.number_connected_components(Gtot)))\n",
    "nx.info(Gtot)\n"
   ]
  },
  {
   "cell_type": "code",
   "execution_count": 61,
   "id": "4db28b69",
   "metadata": {},
   "outputs": [
    {
     "name": "stdout",
     "output_type": "stream",
     "text": [
      "Numero di nodi: 5538\n",
      "Numero di archi: 18764\n",
      "Il grafo è connesso? True\n",
      "Componenti connesse: 1\n",
      "1\n"
     ]
    }
   ],
   "source": [
    "Gcc = sorted(nx.connected_components(Gtot), key=len, reverse=True)\n",
    "\n",
    "g = Gtot.subgraph(Gcc[0])\n",
    "print(\"Numero di nodi: \"+str(g.number_of_nodes()))\n",
    "print(\"Numero di archi: \"+str(g.number_of_edges()))\n",
    "print(\"Il grafo è connesso? \"+str(nx.is_connected(g)))\n",
    "print(\"Componenti connesse: \"+ str(nx.number_connected_components(g)))\n",
    "#nx.info(Gtot)\n",
    "\n",
    "lista_componenti_connesse = list(nx.connected_components(Gtot))\n",
    "print(len(lista_componenti_connesse[1]))\n"
   ]
  },
  {
   "cell_type": "code",
   "execution_count": 69,
   "id": "087e38a5",
   "metadata": {},
   "outputs": [],
   "source": [
    "json = nx.node_link_data(Gtot)\n",
    "json.keys()\n",
    "\n",
    "\n",
    "links = json[\"links\"]\n",
    "\n",
    "with open(\"links.json\", \"w\") as f:\n",
    "    for l in links:\n",
    "        row = l[\"source\"]+\",\"+l[\"target\"]+\",\"+l[\"time\"]+\",\"+l[\"position\"]+\"\\n\"\n",
    "        f.write(row)\n",
    "    f.close()\n",
    "\n",
    "with open(\"all_datas.json\", \"w\") as ff:\n",
    "    string_to_print = js.dumps(json)\n",
    "    ff.write(string_to_print)\n",
    "    ff.close()"
   ]
  }
 ],
 "metadata": {
  "interpreter": {
   "hash": "e7370f93d1d0cde622a1f8e1c04877d8463912d04d973331ad4851f04de6915a"
  },
  "kernelspec": {
   "display_name": "Python 3.10.4 64-bit",
   "language": "python",
   "name": "python3"
  },
  "language_info": {
   "codemirror_mode": {
    "name": "ipython",
    "version": 3
   },
   "file_extension": ".py",
   "mimetype": "text/x-python",
   "name": "python",
   "nbconvert_exporter": "python",
   "pygments_lexer": "ipython3",
   "version": "3.10.4"
  }
 },
 "nbformat": 4,
 "nbformat_minor": 5
}
