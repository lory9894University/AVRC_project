{
 "cells": [
  {
   "cell_type": "code",
   "execution_count": 1,
   "id": "80c1ef7a",
   "metadata": {},
   "outputs": [],
   "source": [
    "# libraries\n",
    "import matplotlib.pyplot as plt\n",
    "import pandas as pd\n",
    "import networkx as nx\n",
    "import itertools \n",
    "\n",
    "path = \"./Brightkite_totalCheckins.txt\"\n",
    "\n",
    "\n",
    "def permutation(list):\n",
    "    res_list = []\n",
    "    for e in list:\n",
    "        for el in list:\n",
    "            if e != el:\n",
    "                res_list.append((e,el))\n",
    "    return res_list\n"
   ]
  },
  {
   "cell_type": "markdown",
   "id": "033e569e",
   "metadata": {},
   "source": [
    "Suddivisone per luoghi"
   ]
  },
  {
   "cell_type": "code",
   "execution_count": 33,
   "id": "d096df78",
   "metadata": {},
   "outputs": [],
   "source": [
    "\n",
    "#get the datas\n",
    "with open(path) as f:\n",
    "    raw_datas = f.read()\n",
    "    first_elaboration = raw_datas.split(\"\\n\")\n",
    "\n",
    "act_datas_loc={}\n",
    "for d in first_elaboration:\n",
    "    if(d!=''):\n",
    "        tmp = d.split(\"\\t\")\n",
    "        if tmp[4] in act_datas_loc.keys():\n",
    "            #act_datas[tmp[4]].append((tmp[0],tmp[1]))\n",
    "            act_datas_loc[tmp[4]].append((tmp[0],tmp[1][0:13], (tmp[2], tmp[3])))\n",
    "        else:\n",
    "            #act_datas[tmp[4]] = [(tmp[0],tmp[1])]\n",
    "            act_datas_loc[tmp[4]] = [(tmp[0],tmp[1][0:13], (tmp[2], tmp[3]))]\n",
    "\n",
    "#act_datas"
   ]
  },
  {
   "cell_type": "code",
   "execution_count": 34,
   "id": "156d10c8",
   "metadata": {},
   "outputs": [],
   "source": [
    "G_loc = nx.Graph()\n",
    "nodes = act_datas_loc.keys()\n",
    "G_loc.add_nodes_from(act_datas_loc.keys())\n",
    "#for k in nodes:\n",
    "#    print(act_datas_loc[k])"
   ]
  },
  {
   "cell_type": "code",
   "execution_count": 35,
   "id": "b9426969",
   "metadata": {},
   "outputs": [
    {
     "data": {
      "text/plain": [
       "772967"
      ]
     },
     "execution_count": 35,
     "metadata": {},
     "output_type": "execute_result"
    }
   ],
   "source": [
    "len(act_datas_loc)"
   ]
  }
 ],
 "metadata": {
  "interpreter": {
   "hash": "e7370f93d1d0cde622a1f8e1c04877d8463912d04d973331ad4851f04de6915a"
  },
  "kernelspec": {
   "display_name": "Python 3.10.4 64-bit",
   "language": "python",
   "name": "python3"
  },
  "language_info": {
   "codemirror_mode": {
    "name": "ipython",
    "version": 3
   },
   "file_extension": ".py",
   "mimetype": "text/x-python",
   "name": "python",
   "nbconvert_exporter": "python",
   "pygments_lexer": "ipython3",
   "version": "3.10.4"
  }
 },
 "nbformat": 4,
 "nbformat_minor": 5
}
